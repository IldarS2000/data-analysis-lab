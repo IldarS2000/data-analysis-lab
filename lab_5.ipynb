{
 "cells": [
  {
   "cell_type": "markdown",
   "metadata": {},
   "source": [
    "## Задание 1"
   ]
  },
  {
   "cell_type": "code",
   "execution_count": 1,
   "metadata": {},
   "outputs": [],
   "source": [
    "import csv\n",
    "from openpyxl import load_workbook, Workbook"
   ]
  },
  {
   "cell_type": "code",
   "execution_count": 2,
   "metadata": {},
   "outputs": [],
   "source": [
    "def process_rows(rows):\n",
    "    rows = [[data if data not in ('Missing', None) else '' for data in row] for row in rows]\n",
    "\n",
    "    percents = [row[-1].replace('%', '') for row in rows][1:]\n",
    "    percents = [float(percent) / 100 for percent in percents]\n",
    "\n",
    "    for index in range(1, len(rows)):\n",
    "        rows[index][-1] = percents[index - 1]\n",
    "    return rows"
   ]
  },
  {
   "cell_type": "markdown",
   "metadata": {},
   "source": [
    "для csv"
   ]
  },
  {
   "cell_type": "code",
   "execution_count": 3,
   "metadata": {},
   "outputs": [],
   "source": [
    "with open('temp_data_01.csv', newline='') as file:\n",
    "    reader = csv.reader(file)\n",
    "    rows = [row for row in reader]"
   ]
  },
  {
   "cell_type": "code",
   "execution_count": 4,
   "metadata": {},
   "outputs": [],
   "source": [
    "rows = process_rows(rows)"
   ]
  },
  {
   "cell_type": "code",
   "execution_count": 5,
   "metadata": {},
   "outputs": [],
   "source": [
    "with open('res.csv', 'w', newline='') as file:\n",
    "    writer = csv.writer(file)\n",
    "    writer.writerows(rows)"
   ]
  },
  {
   "cell_type": "markdown",
   "metadata": {},
   "source": [
    "для xlsx"
   ]
  },
  {
   "cell_type": "code",
   "execution_count": 6,
   "metadata": {},
   "outputs": [],
   "source": [
    "workbook = load_workbook('temp_data_01.xlsx')\n",
    "sheet = workbook.active\n",
    "rows = [[cell.value for cell in row] for row in sheet.iter_rows()]"
   ]
  },
  {
   "cell_type": "code",
   "execution_count": 7,
   "metadata": {},
   "outputs": [],
   "source": [
    "rows = process_rows(rows)"
   ]
  },
  {
   "cell_type": "code",
   "execution_count": 8,
   "metadata": {},
   "outputs": [],
   "source": [
    "workbook = Workbook()\n",
    "sheet = workbook.create_sheet('sheet')"
   ]
  },
  {
   "cell_type": "code",
   "execution_count": 9,
   "metadata": {},
   "outputs": [],
   "source": [
    "for i, row in enumerate(rows):\n",
    "    for j, data in enumerate(row):\n",
    "        sheet.cell(row=i + 1, column=j + 1).value = data"
   ]
  },
  {
   "cell_type": "code",
   "execution_count": 10,
   "metadata": {},
   "outputs": [],
   "source": [
    "workbook.save('res.xlsx')"
   ]
  },
  {
   "cell_type": "markdown",
   "metadata": {},
   "source": [
    "## Задание 2"
   ]
  },
  {
   "cell_type": "code",
   "execution_count": 11,
   "metadata": {},
   "outputs": [],
   "source": [
    "import xmltodict\n",
    "import requests"
   ]
  },
  {
   "cell_type": "code",
   "execution_count": 12,
   "metadata": {},
   "outputs": [],
   "source": [
    "url = 'https://xml.meteoservice.ru/export/gismeteo/point/486.xml'\n",
    "response = requests.get(url)\n",
    "xml = response.text"
   ]
  },
  {
   "cell_type": "code",
   "execution_count": 13,
   "metadata": {},
   "outputs": [],
   "source": [
    "with open('zad_5_2.xml', 'w') as file:\n",
    "    file.write(xml)"
   ]
  },
  {
   "cell_type": "code",
   "execution_count": 14,
   "metadata": {},
   "outputs": [],
   "source": [
    "doc = xmltodict.parse(xml)\n",
    "doc = doc['MMWEATHER']['REPORT']['TOWN']['FORECAST']"
   ]
  },
  {
   "cell_type": "code",
   "execution_count": 15,
   "metadata": {},
   "outputs": [],
   "source": [
    "next_day_first_half = dict(doc[2])\n",
    "next_day_second_half = dict(doc[3])"
   ]
  },
  {
   "cell_type": "code",
   "execution_count": 16,
   "metadata": {},
   "outputs": [],
   "source": [
    "date = next_day_first_half['@day'], next_day_first_half['@month'], next_day_first_half['@year']\n",
    "temperature1 = dict(next_day_first_half['TEMPERATURE'])['@max']\n",
    "temperature2 = dict(next_day_second_half['TEMPERATURE'])['@max']"
   ]
  },
  {
   "cell_type": "code",
   "execution_count": 17,
   "metadata": {},
   "outputs": [
    {
     "name": "stdout",
     "output_type": "stream",
     "text": [
      "максимальная температура воздуха на 31-10-2020: 5 градусов цельсия\n"
     ]
    }
   ],
   "source": [
    "print(f'максимальная температура воздуха на '\n",
    "      f'{date[0]}-{date[1]}-{date[2]}: {max(temperature1, temperature2)} градусов цельсия')"
   ]
  },
  {
   "cell_type": "markdown",
   "metadata": {},
   "source": [
    "## Задание 3"
   ]
  },
  {
   "cell_type": "code",
   "execution_count": 18,
   "metadata": {},
   "outputs": [],
   "source": [
    "import json\n",
    "import requests"
   ]
  },
  {
   "cell_type": "code",
   "execution_count": 19,
   "metadata": {},
   "outputs": [],
   "source": [
    "url = 'https://jsonplaceholder.typicode.com/todos'\n",
    "response = requests.get(url)\n",
    "todos = json.loads(response.text)"
   ]
  },
  {
   "cell_type": "code",
   "execution_count": 20,
   "metadata": {},
   "outputs": [],
   "source": [
    "counter = {}\n",
    "for task in todos:\n",
    "    if task['completed']:\n",
    "        if task['userId'] not in counter:\n",
    "            counter[task['userId']] = 1\n",
    "        else:\n",
    "            counter[task['userId']] += 1"
   ]
  },
  {
   "cell_type": "code",
   "execution_count": 21,
   "metadata": {},
   "outputs": [
    {
     "name": "stdout",
     "output_type": "stream",
     "text": [
      "user 5: 12 tasks completed\n",
      "user 10: 12 tasks completed\n",
      "user 1: 11 tasks completed\n",
      "user 8: 11 tasks completed\n",
      "user 7: 9 tasks completed\n",
      "user 2: 8 tasks completed\n",
      "user 9: 8 tasks completed\n",
      "user 3: 7 tasks completed\n",
      "user 4: 6 tasks completed\n",
      "user 6: 6 tasks completed\n"
     ]
    }
   ],
   "source": [
    "counter = sorted(counter.items(), key=lambda x: x[1], reverse=True)\n",
    "for key, value in counter:\n",
    "    print(f'user {key}: {value} tasks completed')"
   ]
  }
 ],
 "metadata": {
  "kernelspec": {
   "display_name": "Python 3",
   "language": "python",
   "name": "python3"
  },
  "language_info": {
   "codemirror_mode": {
    "name": "ipython",
    "version": 3
   },
   "file_extension": ".py",
   "mimetype": "text/x-python",
   "name": "python",
   "nbconvert_exporter": "python",
   "pygments_lexer": "ipython3",
   "version": "3.8.6"
  }
 },
 "nbformat": 4,
 "nbformat_minor": 4
}
