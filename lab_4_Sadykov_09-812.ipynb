{
 "cells": [
  {
   "cell_type": "code",
   "execution_count": 1,
   "metadata": {},
   "outputs": [],
   "source": [
    "with open('country_list.txt', 'r', encoding='utf-8') as file:\n",
    "    countries = file.read()\n",
    "countries = [country.strip().lower() for country in countries.split('\\n')]\n",
    "countries = list(filter(lambda x: x != '', countries))"
   ]
  },
  {
   "cell_type": "code",
   "execution_count": 2,
   "metadata": {},
   "outputs": [],
   "source": [
    "with open('speech.txt', 'r', encoding='utf-8') as file:\n",
    "    speech = file.read()\n",
    "speech = speech.lower()"
   ]
  },
  {
   "cell_type": "code",
   "execution_count": 3,
   "metadata": {},
   "outputs": [],
   "source": [
    "mentions = {country: speech.count(country) for country in countries}\n",
    "mentions = {country: n_mentions for country, n_mentions in mentions.items() if n_mentions != 0}"
   ]
  },
  {
   "cell_type": "code",
   "execution_count": 4,
   "metadata": {},
   "outputs": [
    {
     "name": "stdout",
     "output_type": "stream",
     "text": [
      "China: 12\n",
      "United States: 11\n",
      "Iran: 8\n",
      "Russia: 6\n",
      "Israel: 5\n",
      "Libya: 5\n",
      "Iraq: 4\n",
      "North Korea: 3\n",
      "Egypt: 2\n",
      "Syria: 2\n",
      "Cuba: 1\n",
      "Czech Republic: 1\n",
      "Denmark: 1\n",
      "Japan: 1\n",
      "Kenya: 1\n",
      "Poland: 1\n",
      "Saudi Arabia: 1\n",
      "Tanzania: 1\n"
     ]
    }
   ],
   "source": [
    "mentions = sorted(mentions.items(), key=lambda x: x[1], reverse=True)\n",
    "for country, n_mentions in mentions:\n",
    "    print(f'{country.title()}: {n_mentions}')"
   ]
  },
  {
   "cell_type": "code",
   "execution_count": null,
   "metadata": {},
   "outputs": [],
   "source": []
  }
 ],
 "metadata": {
  "kernelspec": {
   "display_name": "Python 3",
   "language": "python",
   "name": "python3"
  },
  "language_info": {
   "codemirror_mode": {
    "name": "ipython",
    "version": 3
   },
   "file_extension": ".py",
   "mimetype": "text/x-python",
   "name": "python",
   "nbconvert_exporter": "python",
   "pygments_lexer": "ipython3",
   "version": "3.8.6"
  }
 },
 "nbformat": 4,
 "nbformat_minor": 4
}
