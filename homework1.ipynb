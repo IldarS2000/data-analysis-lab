{
 "cells": [
  {
   "cell_type": "code",
   "execution_count": 2,
   "metadata": {},
   "outputs": [],
   "source": [
    "# Домашняя работа за 30.09.2020\n",
    "# 22. Садыков Ильдар 09-812"
   ]
  },
  {
   "cell_type": "code",
   "execution_count": 3,
   "metadata": {},
   "outputs": [
    {
     "name": "stdout",
     "output_type": "stream",
     "text": [
      "0 1 1 2 3 5 8 13 21 34 55 89 144 233 377 610 987 1597 2584 4181 6765 10946 17711 28657 46368 75025 121393 196418 317811 514229 832040 1346269 2178309 3524578 5702887 9227465 14930352 24157817 39088169 63245986 102334155 165580141 267914296 433494437 701408733 1134903170 1836311903 2971215073 4807526976 7778742049 "
     ]
    }
   ],
   "source": [
    "# 3. Напишите функцию-генератор чисел Фибоначчи.\n",
    "def fibonacci():\n",
    "    a1, a2 = 0, 1\n",
    "    yield a1\n",
    "    yield a2\n",
    "    while True:\n",
    "        a3 = a1 + a2\n",
    "        a1 = a2\n",
    "        a2 = a3\n",
    "        yield a3\n",
    "        \n",
    "    \n",
    "fib = fibonacci()\n",
    "for _ in range(50):\n",
    "    print(next(fib), end=' ')"
   ]
  },
  {
   "cell_type": "code",
   "execution_count": 15,
   "metadata": {},
   "outputs": [
    {
     "name": "stdout",
     "output_type": "stream",
     "text": [
      "6 8 0 6 0 "
     ]
    }
   ],
   "source": [
    "# 22. Дана строка. Сколькими способами можно выбрать гласную и согласную буквы из\n",
    "# данной строки. Результат вывести на экран.\n",
    "def task(string):\n",
    "    string = string.lower()\n",
    "    \n",
    "    vowels = {'a', 'e', 'i', 'o', 'u', 'y'}\n",
    "    consonants = {'b', 'c', 'd', 'f', 'g', 'h', 'j', 'k', 'l', 'm', \\\n",
    "                    'n', 'p', 'q', 'r', 's', 't', 'v', 'w', 'x', 'z'}\n",
    "    \n",
    "    count_vowels = 0\n",
    "    count_consonants = 0\n",
    "    for letter in string:\n",
    "        if letter in vowels:\n",
    "            count_vowels += 1\n",
    "        elif letter in consonants:\n",
    "            count_consonants += 1\n",
    "            \n",
    "    return count_vowels * count_consonants\n",
    "\n",
    "\n",
    "print(task('hello'), end=' ')\n",
    "print(task('python'), end=' ')\n",
    "print(task('cpp'), end=' ')\n",
    "print(task('HeLlo'), end=' ')\n",
    "print(task('1235'), end=' ')"
   ]
  },
  {
   "cell_type": "code",
   "execution_count": 20,
   "metadata": {},
   "outputs": [
    {
     "name": "stdout",
     "output_type": "stream",
     "text": [
      "input: keks ok jo lo cc ee aa\n",
      "output: cc ee aa ok jo lo keks "
     ]
    }
   ],
   "source": [
    "# 22. Ввести строку (слова, разделённые пробелами), и вывести через пробел вначале слова, состоящие\n",
    "# из повторения единственного символа (если таковые имеются), затем — слова, образованные\n",
    "# всего из двух символов в любом количестве и сочетании, затем — из трёх и т. д. Слова с\n",
    "# одинаковым количеством символов выводить в порядке их появления в строке. \n",
    "\n",
    "def task(text: str):\n",
    "    words = text.split()\n",
    "    words = [(set(word), word) for word in words]\n",
    "    words.sort(key=lambda word: len(word[0]))\n",
    "    \n",
    "    print('output: ', end='')\n",
    "    for word in words:\n",
    "        print(word[1], end=' ')\n",
    "\n",
    "        \n",
    "task(input('input: '))"
   ]
  },
  {
   "cell_type": "code",
   "execution_count": 18,
   "metadata": {},
   "outputs": [
    {
     "name": "stdout",
     "output_type": "stream",
     "text": [
      "[9, 25, 49, 81, 121, 169]\n"
     ]
    }
   ],
   "source": [
    "# 2. Используя конструкцию генератора списка создайте список первых квадратов нечетных чисел из\n",
    "# (3,13). \n",
    "\n",
    "lst = [i ** 2 for i in range(3, 14) if i % 2 != 0]\n",
    "print(lst)"
   ]
  },
  {
   "cell_type": "code",
   "execution_count": 19,
   "metadata": {},
   "outputs": [
    {
     "name": "stdout",
     "output_type": "stream",
     "text": [
      "tax: 23400.0\n",
      "wage: 155034.0\n"
     ]
    }
   ],
   "source": [
    "# 22. Известны оклад (зарплата) – p, ставка процента подоходного налога – m и процент профсоюзных\n",
    "# взносов – n. Напишите функцию, которая определяет размер подоходного налога и\n",
    "# сумму, получаемую на руки. По умолчанию n = 1%. \n",
    "\n",
    "def task(p, m, n=1):\n",
    "    tax = p * m / 100\n",
    "    wage = (p - tax) * (1 - n / 100)\n",
    "\n",
    "    print(f'tax: {tax}\\nwage: {wage}')\n",
    "\n",
    "\n",
    "task(180000, 13)"
   ]
  },
  {
   "cell_type": "code",
   "execution_count": null,
   "metadata": {},
   "outputs": [],
   "source": []
  }
 ],
 "metadata": {
  "kernelspec": {
   "display_name": "Python 3",
   "language": "python",
   "name": "python3"
  },
  "language_info": {
   "codemirror_mode": {
    "name": "ipython",
    "version": 3
   },
   "file_extension": ".py",
   "mimetype": "text/x-python",
   "name": "python",
   "nbconvert_exporter": "python",
   "pygments_lexer": "ipython3",
   "version": "3.9.0"
  }
 },
 "nbformat": 4,
 "nbformat_minor": 4
}
